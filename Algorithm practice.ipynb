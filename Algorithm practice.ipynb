{
 "cells": [
  {
   "cell_type": "markdown",
   "metadata": {},
   "source": [
    "# Warmup\n",
    "\n",
    "## 二分查找\n",
    "在一个排好序的数组array中查找target，返回target在数组中的下标，未找到返回-1"
   ]
  },
  {
   "cell_type": "code",
   "execution_count": 6,
   "metadata": {},
   "outputs": [
    {
     "name": "stdout",
     "output_type": "stream",
     "text": [
      "6\n",
      "-1\n"
     ]
    }
   ],
   "source": [
    "lst = [1,2,3,4,5,11,21,23,25,112]\n",
    "\n",
    "def binary_search(array, target):\n",
    "    if not array:\n",
    "        return -1\n",
    "    a, b = 0, len(array) - 1\n",
    "    while a <= b:\n",
    "        mid = (a+b) // 2\n",
    "        if target < array[mid]:\n",
    "            b = mid - 1\n",
    "        elif target > array[mid]:\n",
    "            a = mid + 1\n",
    "        else:\n",
    "            return mid\n",
    "\n",
    "    return -1\n",
    "        \n",
    "    \n",
    "print(binary_search(lst,21))\n",
    "print(binary_search(lst,211))"
   ]
  },
  {
   "cell_type": "markdown",
   "metadata": {},
   "source": [
    "## 插入排序\n",
    "指针从数组的左边到右边，指针的左边总是排好序的，每次都将指针右边的第一个元素插入到指针左边已经排好序的数组中（方法是依次和前面的元素比较直到位置固定），然后将指针向右移动，当指针到达整个数组最右端时，说明排序已经完成"
   ]
  },
  {
   "cell_type": "code",
   "execution_count": 11,
   "metadata": {},
   "outputs": [
    {
     "name": "stdout",
     "output_type": "stream",
     "text": [
      "[1, 2, 5, 6, 11, 14, 18, 21, 25, 33, 52]\n"
     ]
    }
   ],
   "source": [
    "lst = [11,33,2,18,52,25,14,6,21,5,1]\n",
    "\n",
    "def insert_sort(lst):\n",
    "    if not lst:\n",
    "        return lst\n",
    "    for i in range(1,len(lst)):\n",
    "        j = i\n",
    "        while j > 0 and lst[j] < lst[j-1]:\n",
    "            lst[j], lst[j-1] = lst[j-1], lst[j]\n",
    "            j -= 1\n",
    "    return lst\n",
    "\n",
    "\n",
    "print(insert_sort(lst))"
   ]
  },
  {
   "cell_type": "markdown",
   "metadata": {},
   "source": [
    "## 快速排序\n",
    "选取数组的第一个元素作为切分元素，然后从第二个元素开始，将所有比切分元素小的放在其左边，比切分元素大的放在它的右边，然后对左半部分和右半部分分别递归地调用这个排序的过程，当这两个子数组都有序时整个数组也就有序了。"
   ]
  },
  {
   "cell_type": "code",
   "execution_count": 13,
   "metadata": {},
   "outputs": [
    {
     "name": "stdout",
     "output_type": "stream",
     "text": [
      "[1, 2, 5, 6, 11, 14, 18, 21, 25, 33, 52]\n"
     ]
    }
   ],
   "source": [
    "def quick_sort(lst):\n",
    "    if not lst:\n",
    "        return lst\n",
    "    base = lst[0]\n",
    "    left = quick_sort([x for x in lst[1:] if x <= base])\n",
    "    right = quick_sort([x for x in lst[1:] if x > base])\n",
    "    return left + [base] + right\n",
    "\n",
    "print(quick_sort(lst))"
   ]
  },
  {
   "cell_type": "markdown",
   "metadata": {},
   "source": [
    "## 归并排序\n",
    "将待排序的数组分为两半，对这两半数组递归地使用归并排序。两边排好序之后，从首元素开始比较，哪边的元素小就将其取出放入新数组，然后两边的首元素继续比较，最后得到的新数组就是排序好的数组。"
   ]
  },
  {
   "cell_type": "code",
   "execution_count": 15,
   "metadata": {},
   "outputs": [
    {
     "name": "stdout",
     "output_type": "stream",
     "text": [
      "[1, 2, 5, 6, 11, 14, 18, 21, 25, 33, 52]\n"
     ]
    }
   ],
   "source": [
    "def merge_sort(lst):\n",
    "    if len(lst) <= 1:\n",
    "        return lst\n",
    "    mid = len(lst) // 2\n",
    "    left = merge_sort(lst[:mid])\n",
    "    right = merge_sort(lst[mid:])\n",
    "    return merge(left, right)\n",
    "\n",
    "def merge(left, right):\n",
    "    res = []\n",
    "    l, r = 0, 0\n",
    "    while l < len(left) and r < len(right):\n",
    "        if left[l] <= right[r]:\n",
    "            res.append(left[l])\n",
    "            l += 1\n",
    "        else:\n",
    "            res.append(right[r])\n",
    "            r += 1\n",
    "    return res + left[l:] + right[r:]\n",
    "\n",
    "\n",
    "print(merge_sort(lst))"
   ]
  },
  {
   "cell_type": "code",
   "execution_count": null,
   "metadata": {},
   "outputs": [],
   "source": []
  },
  {
   "cell_type": "markdown",
   "metadata": {},
   "source": [
    "# 二叉树"
   ]
  },
  {
   "cell_type": "code",
   "execution_count": 1,
   "metadata": {},
   "outputs": [],
   "source": [
    "class btree:\n",
    "    def __init__(self, x):\n",
    "        self.val = x\n",
    "        self.left = None\n",
    "        self.right = None\n",
    "        \n",
    "a1 = btree(1)\n",
    "a2 = btree(2)\n",
    "a3 = btree(3)\n",
    "a4 = btree(4)\n",
    "a5 = btree(5)\n",
    "a6 = btree(6)\n",
    "a7 = btree(7)\n",
    "a8 = btree(8)\n",
    "'''\n",
    "            1\n",
    "          /   \\\n",
    "         /     \\\n",
    "        2       3\n",
    "       / \\       \\\n",
    "      4   5       6\n",
    "           \\     /\n",
    "            7   8\n",
    "'''\n",
    "a1.left = a2\n",
    "a1.right = a3\n",
    "a2.left = a4\n",
    "a2.right = a5\n",
    "a3.right = a6\n",
    "a5.right = a7\n",
    "a6.left = a8"
   ]
  },
  {
   "cell_type": "markdown",
   "metadata": {},
   "source": [
    "## 遍历方式\n",
    "- 前序遍历\n",
    "- 中序遍历\n",
    "- 后序遍历\n",
    "- 层次遍历"
   ]
  },
  {
   "cell_type": "code",
   "execution_count": 3,
   "metadata": {},
   "outputs": [
    {
     "name": "stdout",
     "output_type": "stream",
     "text": [
      "[1, 2, 4, 5, 7, 3, 6, 8]\n"
     ]
    }
   ],
   "source": [
    "def preorder(root):\n",
    "    if not root:\n",
    "        return []\n",
    "    return [root.val] + preorder(root.left) + preorder(root.right)\n",
    "\n",
    "print(preorder(a1))"
   ]
  },
  {
   "cell_type": "code",
   "execution_count": 19,
   "metadata": {},
   "outputs": [
    {
     "name": "stdout",
     "output_type": "stream",
     "text": [
      "[1, 2, 4, 5, 3, 6]\n"
     ]
    }
   ],
   "source": [
    "def preorder_wh(root):\n",
    "    # 根-左-右\n",
    "    if not root:\n",
    "        return []\n",
    "    node_stack = []\n",
    "    res = []\n",
    "    while root or node_stack:\n",
    "        if root:\n",
    "            node_stack.append(root)\n",
    "            res.append(root.val)\n",
    "            root = root.left\n",
    "        else:\n",
    "            root = node_stack.pop()\n",
    "            root = root.right\n",
    "    return res\n",
    "\n",
    "# 这样写我觉得更直观，但是不通用，不能照搬到中序遍历\n",
    "def preorder_wh1(root):\n",
    "    if not root:\n",
    "        return []\n",
    "    res = []\n",
    "    node_stack = []\n",
    "    while root or node_stack:\n",
    "        if root:\n",
    "            res.append(root.val)\n",
    "            node_stack.append(root.right)\n",
    "            root = root.left\n",
    "        else:\n",
    "            root = node_stack.pop()\n",
    "    return res\n",
    "\n",
    "print(preorder_wh(a1))"
   ]
  },
  {
   "cell_type": "code",
   "execution_count": 4,
   "metadata": {},
   "outputs": [
    {
     "name": "stdout",
     "output_type": "stream",
     "text": [
      "[4, 2, 5, 7, 1, 3, 8, 6]\n"
     ]
    }
   ],
   "source": [
    "def inorder(root):\n",
    "    # 左-根-右\n",
    "    if not root:\n",
    "        return []\n",
    "    res = []\n",
    "    node_stack = []\n",
    "    while root or node_stack:\n",
    "        if root:\n",
    "            node_stack.append(root)\n",
    "            root = root.left\n",
    "        else:\n",
    "            root = node_stack.pop()\n",
    "            res.append(root.val)\n",
    "            root = root.right\n",
    "    return res\n",
    "\n",
    "print(inorder(a1))"
   ]
  },
  {
   "cell_type": "code",
   "execution_count": 5,
   "metadata": {},
   "outputs": [
    {
     "name": "stdout",
     "output_type": "stream",
     "text": [
      "[4, 7, 5, 2, 8, 6, 3, 1]\n"
     ]
    }
   ],
   "source": [
    "def postorder(root):\n",
    "    # 左-右-根\n",
    "    if not root:\n",
    "        return []\n",
    "    res = []\n",
    "    node_stack = []\n",
    "    while root or node_stack:\n",
    "        if root:\n",
    "            node_stack.append(root)\n",
    "            res.append(root.val)\n",
    "            root = root.right\n",
    "        else:\n",
    "            root = node_stack.pop()\n",
    "            root = root.left\n",
    "    return res[::-1]\n",
    "\n",
    "print(postorder(a1))"
   ]
  },
  {
   "cell_type": "code",
   "execution_count": 22,
   "metadata": {},
   "outputs": [
    {
     "name": "stdout",
     "output_type": "stream",
     "text": [
      "[1, 2, 3, 4, 5, 6]\n"
     ]
    }
   ],
   "source": [
    "def level_order(root):\n",
    "    if not root:\n",
    "        return []\n",
    "    res = []\n",
    "    node_stack = [root]\n",
    "    while node_stack:\n",
    "        root = node_stack.pop(0)\n",
    "        res.append(root.val)\n",
    "        if root.left:\n",
    "            node_stack.append(root.left)\n",
    "        if root.right:\n",
    "            node_stack.append(root.right)\n",
    "    return res\n",
    "\n",
    "print(level_order(a1))"
   ]
  },
  {
   "cell_type": "markdown",
   "metadata": {},
   "source": [
    "## 长度"
   ]
  },
  {
   "cell_type": "code",
   "execution_count": 11,
   "metadata": {},
   "outputs": [
    {
     "name": "stdout",
     "output_type": "stream",
     "text": [
      "4\n"
     ]
    }
   ],
   "source": [
    "# 最大深度\n",
    "def max_depth(root):\n",
    "    if not root:\n",
    "        return 0\n",
    "    return max(max_depth(root.left)+1, max_depth(root.right)+1)\n",
    "\n",
    "print(max_depth(a1))"
   ]
  },
  {
   "cell_type": "code",
   "execution_count": 2,
   "metadata": {},
   "outputs": [
    {
     "name": "stdout",
     "output_type": "stream",
     "text": [
      "3\n"
     ]
    }
   ],
   "source": [
    "# 最小深度\n",
    "def min_depth(root):\n",
    "    # 为什么不能写成最大深度的写法？因为对于一个中间节点b，假设b只有左节点没有右节点，使用最大深度的写法，返回的min就是0，但实际上min应该继续从右节点往下找到最后一层子节点\n",
    "    if not root:\n",
    "        return 0\n",
    "    if not root.left and not root.right:\n",
    "        return 1\n",
    "    elif not root.right:\n",
    "        return min_depth(root.left) + 1\n",
    "    elif not root.left:\n",
    "        return min_depth(root.right) + 1\n",
    "    else:\n",
    "        return min(min_depth(root.left) + 1, min_depth(root.right) + 1)\n",
    "    \n",
    "print(min_depth(a1))"
   ]
  },
  {
   "cell_type": "code",
   "execution_count": 3,
   "metadata": {},
   "outputs": [
    {
     "name": "stdout",
     "output_type": "stream",
     "text": [
      "7\n"
     ]
    }
   ],
   "source": [
    "# 最长路径：从一个节点到另一个节点\n",
    "# 思路：对每一个节点，它的最长路径就是左边的最长加上右边的最长，从根节点开始递归\n",
    "gmax_path = 0\n",
    "def max_path(root):\n",
    "    global gmax_path\n",
    "    if not root:\n",
    "        return 0\n",
    "    if not root.left and not root.right:\n",
    "        return 1\n",
    "    left_max = max_path(root.left) + 1\n",
    "    right_max = max_path(root.right) + 1\n",
    "    cur_max = left_max + right_max - 1\n",
    "    if cur_max > gmax_path:\n",
    "        gmax_path = cur_max\n",
    "    return max(left_max, right_max) # 这里很关键，max_path函数的定义是，返回root的某一侧的最长路径，而不是root左右的最长路径之和，因为上面left_max/right_max的计算方式依赖\n",
    "\n",
    "max_path(a1)\n",
    "print(gmax_path)"
   ]
  },
  {
   "cell_type": "code",
   "execution_count": 4,
   "metadata": {},
   "outputs": [
    {
     "name": "stdout",
     "output_type": "stream",
     "text": [
      "32\n"
     ]
    }
   ],
   "source": [
    "# 最大路径和：某条路径上的节点和最大\n",
    "gmax_sum = 0\n",
    "def max_node_sum(root):\n",
    "    global gmax_sum\n",
    "    if not root:\n",
    "        return 0\n",
    "    if not root.left and not root.right:\n",
    "        return root.val\n",
    "    left_sum = root.val + max_node_sum(root.left)\n",
    "    right_sum = root.val + max_node_sum(root.right)\n",
    "    cur_sum = left_sum + right_sum - root.val\n",
    "    if cur_sum > gmax_sum:\n",
    "        gmax_sum = cur_sum\n",
    "    return max(left_sum, right_sum)\n",
    "\n",
    "max_node_sum(a1)\n",
    "print(gmax_sum)"
   ]
  },
  {
   "cell_type": "markdown",
   "metadata": {},
   "source": [
    "## 路径打印"
   ]
  },
  {
   "cell_type": "code",
   "execution_count": 5,
   "metadata": {},
   "outputs": [
    {
     "name": "stdout",
     "output_type": "stream",
     "text": [
      "['124', '1257', '1368']\n"
     ]
    }
   ],
   "source": [
    "# 二叉树的所有路径\n",
    "def traverse(root):\n",
    "    res = []\n",
    "    if not root:\n",
    "        return []\n",
    "    if not root.left and not root.right:\n",
    "        return [str(root.val)]\n",
    "    for x in traverse(root.left):\n",
    "        res.append(str(root.val)+x)\n",
    "    for x in traverse(root.right):\n",
    "        res.append(str(root.val)+x)\n",
    "    return res\n",
    "\n",
    "print(traverse(a1))"
   ]
  },
  {
   "cell_type": "code",
   "execution_count": 8,
   "metadata": {},
   "outputs": [
    {
     "name": "stdout",
     "output_type": "stream",
     "text": [
      "[[1, 2, 5, 7]]\n"
     ]
    }
   ],
   "source": [
    "# 打印出最长路径\n",
    "gmp = 0\n",
    "gmp_lst = []\n",
    "def max_path_print(root):\n",
    "    global gmp, gmp_lst\n",
    "    if not root:\n",
    "        return []\n",
    "    if not root.left and not root.right:\n",
    "        return [[root.val]]\n",
    "    left_max = max_path_print(root.left)\n",
    "    right_max = max_path_print(root.right)\n",
    "    left_len, right_len = 0, 0\n",
    "    if len(left_max) > 0:\n",
    "        left_len = len(left_max[0])\n",
    "    if len(right_max) > 0:\n",
    "        right_len = len(right_max[0])\n",
    "    \n",
    "    cur_max = left_len+right_len+1\n",
    "    if cur_max == gmp:\n",
    "        for \n",
    "        gmp_lst.append()\n",
    "    if left_len > right_len:\n",
    "        \n",
    "\n",
    "\n",
    "# 打印出最大深度的所有路径\n",
    "def max_depth_print(root):\n",
    "    if not root:\n",
    "        return []\n",
    "    if not root.left and not root.right:\n",
    "        return [[root.val]]\n",
    "    left = max_depth_print(root.left)\n",
    "    right = max_depth_print(root.right)\n",
    "    res = []\n",
    "    left_len = 0\n",
    "    right_len = 0\n",
    "    if len(left) > 0:\n",
    "        left_len = len(left[0])\n",
    "    if len(right) > 0:\n",
    "        right_len = len(right[0])\n",
    "        \n",
    "    if left_len+1 > right_len+1:\n",
    "        for x in left:\n",
    "            res.append([root.val]+x)\n",
    "    elif left_len + 1 < right_len + 1:\n",
    "        for x in right:\n",
    "            res.append([root.val]+x)\n",
    "    else:\n",
    "        for x in left:\n",
    "            res.append([root.val]+x)\n",
    "        for x in right:\n",
    "            res.append([root.val]+x)\n",
    "    return res\n",
    "\n",
    "\n",
    "print(max_depth_print(a1))"
   ]
  },
  {
   "cell_type": "code",
   "execution_count": null,
   "metadata": {},
   "outputs": [],
   "source": [
    "# 所有和为n的路径，包含中间节点到中间节点"
   ]
  },
  {
   "cell_type": "markdown",
   "metadata": {},
   "source": [
    "## 其他练手题"
   ]
  },
  {
   "cell_type": "code",
   "execution_count": 6,
   "metadata": {},
   "outputs": [
    {
     "name": "stdout",
     "output_type": "stream",
     "text": [
      "[1, 3, 6, 8]\n"
     ]
    }
   ],
   "source": [
    "# 层次打印出每一层的最右侧节点\n",
    "# 思路：类似层次遍历\n",
    "def right_level_order(root):\n",
    "    if not root:\n",
    "        return []\n",
    "    node_stack = [root]\n",
    "    res = []\n",
    "    while node_stack:\n",
    "        next_stack = []\n",
    "        for i, x in enumerate(node_stack):\n",
    "            if x.left:\n",
    "                next_stack.append(x.left)\n",
    "            if x.right:\n",
    "                next_stack.append(x.right)\n",
    "            if i == len(node_stack) - 1:\n",
    "                res.append(x.val)\n",
    "        node_stack = next_stack\n",
    "    return res\n",
    "\n",
    "print(right_level_order(a1))"
   ]
  },
  {
   "cell_type": "code",
   "execution_count": 40,
   "metadata": {},
   "outputs": [
    {
     "name": "stdout",
     "output_type": "stream",
     "text": [
      "1\n"
     ]
    }
   ],
   "source": [
    "# 两个节点的最近公共祖先\n",
    "# 思路：从根节点往下递归，如果root等于p/q/None，则不继续往下，返回root。\n",
    "# 分别向左和向右子节点递归，如果都返回了不为None或者都为None，说明往下没有找到公共祖先，返回root。\n",
    "# 如果有一边返回None，说明都在一侧，因此返回另一侧的结果\n",
    "def common_ancestor(root, p, q):\n",
    "    if not root:\n",
    "        return None\n",
    "    if root == p or root == q:\n",
    "        return root\n",
    "    left = common_ancestor(root.left, p, q)\n",
    "    right = common_ancestor(root.right, p, q)\n",
    "    if not left:\n",
    "        return right\n",
    "    if not right:\n",
    "        return left\n",
    "    return root\n",
    "\n",
    "ans = common_ancestor(a1, a3, a4)\n",
    "print(ans.val)"
   ]
  },
  {
   "cell_type": "code",
   "execution_count": 1,
   "metadata": {},
   "outputs": [],
   "source": [
    "# todo: 指定区间反转链表"
   ]
  },
  {
   "cell_type": "code",
   "execution_count": null,
   "metadata": {},
   "outputs": [],
   "source": []
  }
 ],
 "metadata": {
  "kernelspec": {
   "display_name": "Python 3 (ipykernel)",
   "language": "python",
   "name": "python3"
  },
  "language_info": {
   "codemirror_mode": {
    "name": "ipython",
    "version": 3
   },
   "file_extension": ".py",
   "mimetype": "text/x-python",
   "name": "python",
   "nbconvert_exporter": "python",
   "pygments_lexer": "ipython3",
   "version": "3.10.4"
  }
 },
 "nbformat": 4,
 "nbformat_minor": 4
}
